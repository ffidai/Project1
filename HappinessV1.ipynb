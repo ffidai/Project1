{
 "cells": [
  {
   "cell_type": "code",
   "execution_count": 1,
   "metadata": {},
   "outputs": [],
   "source": [
    "import pandas as pd\n",
    "import matplotlib.pyplot as plt\n",
    "import seaborn as sns\n",
    "import numpy as np\n",
    "import random"
   ]
  },
  {
   "cell_type": "code",
   "execution_count": 2,
   "metadata": {},
   "outputs": [],
   "source": [
    "#read files\n",
    "envdf = pd.read_csv('World_countries_env_vars.csv')\n",
    "hdidf = pd.read_csv('HDI.csv')\n",
    "happinessdf = pd.read_csv('2017.csv')"
   ]
  },
  {
   "cell_type": "code",
   "execution_count": 3,
   "metadata": {},
   "outputs": [],
   "source": [
    "#clean up data\n",
    "hdidf_index = hdidf.set_index('Country')\n",
    "clean_hdidf = hdidf_index.rename(index = {\"Bolivia (Plurinational State of)\": \"Bolivia\",\n",
    "                                        \"Brunei Darussalam\": \"Brunei\",\n",
    "                                        \"Guinea-Bissau\":\"Guinea Bissau\",\n",
    "                                        \"Hong Kong, China (SAR)\":\"Hong Kong\",\n",
    "                                        \"Iran (Islamic Republic of)\":\"Iran\",\n",
    "                                        \"Lao People's Democratic Republic\":\"Laos\",\n",
    "                                        \"Moldova (Republic of)\":\"Moldova\",\n",
    "                                        \"Russian Federation\":\"Russia\",\n",
    "                                        \"Syrian Arab Republic\":\"Syria\",\n",
    "                                        \"Venezuela (Bolivarian Republic of)\":\"Venezuela\",\n",
    "                                        \"Viet Nam\":\"Vietnam\"\n",
    "                                         }) \n",
    "envdf_index = envdf.set_index('Country')\n",
    "clean_envdf = envdf_index.rename(index = {\"United States of America\": \"United States\",\n",
    "                                        \"Hong Kong S.A.R.\": \"Hong Kong\",})\n",
    "                                          \n",
    "happinessdf_index = happinessdf.set_index('Country')\n",
    "clean_happinessdf = happinessdf_index.rename(index = {\"Hong Kong S.A.R., China\": \"Hong Kong\", }) "
   ]
  },
  {
   "cell_type": "code",
   "execution_count": 4,
   "metadata": {},
   "outputs": [],
   "source": [
    "#merge \n",
    "combineddf = clean_envdf.merge(clean_hdidf,  how = 'inner' , on='Country')\n",
    "combineddf1 = combineddf.merge(clean_happinessdf, how = 'inner' , on='Country')"
   ]
  },
  {
   "cell_type": "code",
   "execution_count": 5,
   "metadata": {},
   "outputs": [
    {
     "name": "stdout",
     "output_type": "stream",
     "text": [
      "[0, 1000, 5000, 25000, 125000, 625000] ['0 upto 1000', '1000 till 5000', '5000 till 25000', '25000 till 125000', '125000 till 625000']\n"
     ]
    }
   ],
   "source": [
    "#bins\n",
    "percapitabins = [0]\n",
    "powers_5 = [1000*5**n for n in range(0,5)]\n",
    "percapitabins .extend(powers_5)\n",
    "percapitalabels = [f'0 upto 1000']\n",
    "for n in range(1,5):\n",
    "   percapitalabels.append(f'{1000*5**(n-1)} till {1000*5**(n)}')\n",
    "print(percapitabins ,percapitalabels)\n",
    "combineddf1[\"binnedpercapita\"] = pd.cut(combineddf1['Gross national income (GNI) per capita'], bins=percapitabins , labels=percapitalabels)\n",
    "combineddf1.to_excel('converted.xls')"
   ]
  },
  {
   "cell_type": "code",
   "execution_count": 6,
   "metadata": {},
   "outputs": [
    {
     "data": {
      "text/plain": [
       "Index(['elevation', 'aspect', 'slope', 'wind', 'cloudiness', 'HDI Rank', 'HDI',\n",
       "       'Mean years of schooling', 'GNI per capita rank minus HDI rank',\n",
       "       'Change in HDI rank 2010-2015', 'Average annual HDI growth 1990-2000',\n",
       "       'Average annual HDI growth 2000-2010',\n",
       "       'Average annual HDI growth 2010-2015',\n",
       "       'Average annual HDI growth 1990-2015', 'Gender Development Index value',\n",
       "       'Gender Development Index Group',\n",
       "       'Human Development Index (HDI) Female',\n",
       "       'Human Development Index (HDI) Male', 'Mean years of schooling Female',\n",
       "       'Mean years of schooling Male',\n",
       "       'Estimated gross national income per capita Female',\n",
       "       'Estimated gross national income per capita Male',\n",
       "       'Share of seats in parliament (% held by women)',\n",
       "       'Population with at least some secondary education % (2005-2015) Female',\n",
       "       'Population with at least some secondary education % (2005-2015) Male',\n",
       "       'Population Ages 15–64 (millions) 2015',\n",
       "       'Infants exclusively breastfed (% ages 0–5 months) 2010-2015',\n",
       "       'Infants lacking immunization DTP (% of one-year-olds)',\n",
       "       'Infants lacking immunization Measles (% of one-year-olds)',\n",
       "       'Child malnutrition Stunting (moderate or severe) 2010-2015',\n",
       "       'Mortality rates Infant (per 1,000 live births) 2015',\n",
       "       'Mortality rates Under-five (per 1,000 live births) 2015',\n",
       "       'Mortality rates Female Adult (per 1,000 live births) 2014',\n",
       "       'Mortality rates Male Adult (per 1,000 live births) 2014',\n",
       "       'Deaths due to Malria (per 100,000 people) ',\n",
       "       'HIV prevalence, adult (% ages 15–49)',\n",
       "       'Physicians  (per 10,000 people) 2001-2014',\n",
       "       'Public health expenditure (% of GDP) 2014',\n",
       "       'Employment to population ratio (% ages 15 and older) ',\n",
       "       'Employment in agriculture (% of total employment) 2010-2014',\n",
       "       'Employment in services (% of total employment) 2010- 2014',\n",
       "       'Total Unemployment (% of labour force) 2015',\n",
       "       'Unemployment Youth (% ages 15-24) 2010-2014',\n",
       "       'Unemployment Youth not in school or employment (% ages 15-24) 2010-2014',\n",
       "       'Vulnerable employment (% of total employment) 2005-2014',\n",
       "       'Child labour  (% ages 5-14) 2009-2015',\n",
       "       'Working poor at PPP$3.10 a day (%) 2004-2013',\n",
       "       'Mandatory paid maternity leave (days)',\n",
       "       'Old-age pension recipients  (% of statutory pension age population) 2004-2013',\n",
       "       'Inequality-adjusted HDI (IHDI)',\n",
       "       'Inequality-adjusted HDI (IHDI) Over loss(%)',\n",
       "       'Difference from HDI rank', 'Coefficient of human inequality',\n",
       "       'Inequality in education(%)', 'Inequality-adjusted education index',\n",
       "       'Inequality in income (%)', 'Inequality-adjusted income index',\n",
       "       'Income inequality (Quintile ratio) 2010-2015',\n",
       "       'Income inequality (Palma ratio) 2010-2015',\n",
       "       'Income inequality (Gini coefficient) 2010-2015'],\n",
       "      dtype='object')"
      ]
     },
     "execution_count": 6,
     "metadata": {},
     "output_type": "execute_result"
    }
   ],
   "source": [
    "#combineddf1\n",
    "#combineddf1[combineddf1.isnull().any(axis=1)][null_columns].head()\n",
    "combineddf1.columns[combineddf1.isnull().any()]"
   ]
  },
  {
   "cell_type": "code",
   "execution_count": 7,
   "metadata": {},
   "outputs": [
    {
     "data": {
      "text/plain": [
       "elevation                                                    1\n",
       "aspect                                                       1\n",
       "slope                                                        1\n",
       "HDI Rank                                                     1\n",
       "HDI                                                          1\n",
       "Mean years of schooling                                      1\n",
       "GNI per capita rank minus HDI rank                           1\n",
       "Change in HDI rank 2010-2015                                 1\n",
       "Average annual HDI growth 2010-2015                          1\n",
       "Estimated gross national income per capita Female            1\n",
       "Estimated gross national income per capita Male              1\n",
       "Share of seats in parliament (% held by women)               1\n",
       "Population Ages 15–64 (millions) 2015                        1\n",
       "Infants lacking immunization DTP (% of one-year-olds)        1\n",
       "Infants lacking immunization Measles (% of one-year-olds)    1\n",
       "Mortality rates Infant (per 1,000 live births) 2015          1\n",
       "Mortality rates Under-five (per 1,000 live births) 2015      1\n",
       "Employment to population ratio (% ages 15 and older)         1\n",
       "Total Unemployment (% of labour force) 2015                  1\n",
       "Unemployment Youth (% ages 15-24) 2010-2014                  1\n",
       "dtype: int64"
      ]
     },
     "execution_count": 7,
     "metadata": {},
     "output_type": "execute_result"
    }
   ],
   "source": [
    "#plt.scatter(combineddf1['HDI'], combineddf1['Gross national income (GNI) per capita'])\n",
    "nullcolumns = combineddf1.isnull().sum(axis=0)\n",
    "nullcolumns\n",
    "nullcolumns[nullcolumns==1]"
   ]
  },
  {
   "cell_type": "code",
   "execution_count": 8,
   "metadata": {},
   "outputs": [
    {
     "data": {
      "text/plain": [
       "elevation                                                    1\n",
       "aspect                                                       1\n",
       "slope                                                        1\n",
       "HDI Rank                                                     1\n",
       "HDI                                                          1\n",
       "Mean years of schooling                                      1\n",
       "GNI per capita rank minus HDI rank                           1\n",
       "Change in HDI rank 2010-2015                                 1\n",
       "Average annual HDI growth 2010-2015                          1\n",
       "Estimated gross national income per capita Female            1\n",
       "Estimated gross national income per capita Male              1\n",
       "Population Ages 15–64 (millions) 2015                        1\n",
       "Infants lacking immunization DTP (% of one-year-olds)        1\n",
       "Infants lacking immunization Measles (% of one-year-olds)    1\n",
       "Mortality rates Infant (per 1,000 live births) 2015          1\n",
       "Mortality rates Under-five (per 1,000 live births) 2015      1\n",
       "Employment to population ratio (% ages 15 and older)         1\n",
       "Total Unemployment (% of labour force) 2015                  1\n",
       "Unemployment Youth (% ages 15-24) 2010-2014                  1\n",
       "dtype: int64"
      ]
     },
     "execution_count": 8,
     "metadata": {},
     "output_type": "execute_result"
    }
   ],
   "source": [
    "#plt.scatter(combineddf1['tree_canopy_cover'], combineddf1['Life expectancy'])\n",
    "combineddf1['Share of seats in parliament (% held by women)'] = combineddf1[['Share of seats in parliament (% held by women)']].fillna(combineddf1.groupby('binnedpercapita').transform('mean'))\n",
    "#combineddf1[['Share of seats in parliament (% held by women)']].fillna(2)\n",
    "nullcolumns1 = combineddf1.isnull().sum(axis=0)\n",
    "nullcolumns1\n",
    "nullcolumns1[nullcolumns1==1]\n",
    "#[x for x in combineddf1['Share of seats in parliament (% held by women)']]"
   ]
  },
  {
   "cell_type": "code",
   "execution_count": 9,
   "metadata": {},
   "outputs": [],
   "source": [
    "#combineddf1['HDI'].corr(combineddf1['accessibility_to_cities'])\n",
    "#corr = combineddf1['accessibility_to_cities'].corr(combineddf1['HDI'])\n",
    "#mask = np.zeros_like(corr, dtype=np.bool)"
   ]
  },
  {
   "cell_type": "code",
   "execution_count": 10,
   "metadata": {},
   "outputs": [],
   "source": [
    "#cmap = sns.diverging_palette(220, 10, as_cmap=True)\n",
    "#sns.heatmap(corr)\n",
    "#plt.matshow(combineddf1.corr())"
   ]
  },
  {
   "cell_type": "code",
   "execution_count": 11,
   "metadata": {},
   "outputs": [],
   "source": [
    "#Following shows the correlation of each column with other column\n",
    "#combineddf1.corr()"
   ]
  },
  {
   "cell_type": "code",
   "execution_count": 12,
   "metadata": {},
   "outputs": [],
   "source": [
    "#happinessdf.corr()"
   ]
  },
  {
   "cell_type": "code",
   "execution_count": 13,
   "metadata": {},
   "outputs": [],
   "source": [
    "#plt.matshow(happinessdf.corr())"
   ]
  },
  {
   "cell_type": "code",
   "execution_count": 14,
   "metadata": {},
   "outputs": [
    {
     "data": {
      "text/plain": [
       "0.8066985073861793"
      ]
     },
     "execution_count": 14,
     "metadata": {},
     "output_type": "execute_result"
    }
   ],
   "source": [
    "#Correlattion of Happiness with Internet users\n",
    "combineddf1['Internet users'].corr(combineddf1['Happiness.Score'])"
   ]
  },
  {
   "cell_type": "code",
   "execution_count": 15,
   "metadata": {},
   "outputs": [],
   "source": [
    "#plt.scatter(combineddf1['Internet users'], combineddf1['Happiness.Score'])"
   ]
  },
  {
   "cell_type": "code",
   "execution_count": 16,
   "metadata": {},
   "outputs": [],
   "source": [
    "#combineddf1[['Internet users (% 2010 -2015)', 'Happiness.Score']]"
   ]
  },
  {
   "cell_type": "code",
   "execution_count": 17,
   "metadata": {},
   "outputs": [],
   "source": [
    "#combineddf2 = combineddf1[combineddf1.isna().any()=False]\n",
    "# Creating a dataframe with only columns that are all non-nulls\n",
    "combineddf2 = combineddf1.dropna( axis=1, how='any', thresh=None, subset=None)\n",
    "combineddf2.to_excel('nonulls.xls')\n",
    "#Creating a series that checks correltion between Happiness score and all other columns\n",
    "correlations = combineddf2[combineddf2.columns[:]].corr()['Happiness.Score'][:]\n"
   ]
  },
  {
   "cell_type": "code",
   "execution_count": 18,
   "metadata": {},
   "outputs": [
    {
     "data": {
      "text/plain": [
       "pandas.core.series.Series"
      ]
     },
     "execution_count": 18,
     "metadata": {},
     "output_type": "execute_result"
    }
   ],
   "source": [
    "type(correlations)"
   ]
  },
  {
   "cell_type": "code",
   "execution_count": 19,
   "metadata": {
    "scrolled": true
   },
   "outputs": [
    {
     "data": {
      "text/plain": [
       "Happiness.Score                                                         1.000000\n",
       "Whisker.low                                                             0.999501\n",
       "Whisker.high                                                            0.999477\n",
       "Economy..GDP.per.Capita.                                                0.810689\n",
       "Internet users                                                          0.806699\n",
       "Inequality-adjusted life expectancy index                               0.787390\n",
       "Health..Life.Expectancy.                                                0.783550\n",
       "Life expectancy                                                         0.781633\n",
       "Life expectancy at birth Male                                           0.780866\n",
       "Life expectancy at age 59 (years) 2010/2015                             0.770341\n",
       "Life expectancy at birth Female                                         0.767016\n",
       "Family                                                                  0.756369\n",
       "Population Urban 2015 %                                                 0.688711\n",
       "Gross national income (GNI) per capita                                  0.687582\n",
       "Population Median age (years) 2015                                      0.683131\n",
       "Freedom                                                                 0.591232\n",
       "Dependency Ratio Old age (65 and older) /(per 100 people ages 15–64)    0.572926\n",
       "Dystopia.Residual                                                       0.471069\n",
       "Trust..Government.Corruption.                                           0.433991\n",
       "rain_driestMonth                                                        0.430299\n",
       "rain_driestQuart                                                        0.399959\n",
       "Share of seats in parliament (% held by women)                          0.273865\n",
       "temp_seasonality                                                        0.260000\n",
       "tree_canopy_cover                                                       0.216361\n",
       "cropland_cover                                                          0.177101\n",
       "Generosity                                                              0.158733\n",
       "rain_coldestQuart                                                       0.071189\n",
       "temp_annual_range                                                       0.064882\n",
       "Population Ages 65 and older (millions) 2015                            0.061333\n",
       "rain_warmestQuart                                                       0.047160\n",
       "rain_mean_annual                                                        0.024511\n",
       "accessibility_to_cities                                                -0.005607\n",
       "Total Population (millions) 2015                                       -0.033398\n",
       "Total Population (millions) 2030                                       -0.049296\n",
       "Population Under age 5 (millions) 2015                                 -0.096211\n",
       "Internet users (% 2010 -2015)                                          -0.101050\n",
       "Labour force participation rate (% ages 15 and older) Female           -0.125107\n",
       "rain_wettestQuart                                                      -0.148202\n",
       "rain_wettestMonth                                                      -0.173935\n",
       "Labour force participation rate (% ages 15 and older)                  -0.176957\n",
       "Population Average annual growth 2000/2005 (%)                         -0.284129\n",
       "temp_min_coldestMonth                                                  -0.314650\n",
       "temp_driestQuart                                                       -0.334129\n",
       "isothermality                                                          -0.349365\n",
       "Population Average annual growth 2010/2015 (%)                         -0.359018\n",
       "temp_coldestQuart                                                      -0.386261\n",
       "temp_wettestQuart                                                      -0.390697\n",
       "temp_warmestQuart                                                      -0.415980\n",
       "temp_mean_annual                                                       -0.424648\n",
       "temp_max_warmestMonth                                                  -0.463575\n",
       "rain_seasonailty                                                       -0.497272\n",
       "temp_diurnal_range                                                     -0.508888\n",
       "Deaths due to Tuberculosis (per 100,000 people)                        -0.536952\n",
       "Total fertility rate (birth per woman) 2000/2007                       -0.648117\n",
       "Total fertility rate (birth per woman) 2000/2005                       -0.664467\n",
       "Dependency Ration Young age (0–14) /(per 100 people ages 15–64)        -0.683557\n",
       "Inequality in life expectancy (%) 2010-2015                            -0.747828\n",
       "Id                                                                     -0.829941\n",
       "Unnamed: 0                                                             -0.829941\n",
       "Happiness.Rank                                                         -0.992676\n",
       "Name: Happiness.Score, dtype: float64"
      ]
     },
     "execution_count": 19,
     "metadata": {},
     "output_type": "execute_result"
    }
   ],
   "source": [
    "#Sorting my columms that have most correlations with Happiness score\n",
    "correlations.sort_values(ascending=False)\n",
    "#correlations.to_excel('corr.xls')"
   ]
  },
  {
   "cell_type": "code",
   "execution_count": 20,
   "metadata": {},
   "outputs": [
    {
     "name": "stderr",
     "output_type": "stream",
     "text": [
      "C:\\Users\\vai_j\\Anaconda3\\lib\\site-packages\\sklearn\\cross_validation.py:41: DeprecationWarning: This module was deprecated in version 0.18 in favor of the model_selection module into which all the refactored classes and functions are moved. Also note that the interface of the new CV iterators are different from that of this module. This module will be removed in 0.20.\n",
      "  \"This module will be removed in 0.20.\", DeprecationWarning)\n"
     ]
    }
   ],
   "source": [
    "from sklearn.linear_model import LinearRegression\n",
    "from sklearn.cross_validation import train_test_split"
   ]
  },
  {
   "cell_type": "code",
   "execution_count": 21,
   "metadata": {},
   "outputs": [],
   "source": [
    "#Creating a dataframe with a few columns that have good correlation with Happiness Index. Including population as well\n",
    "X = combineddf2[['Total Population (millions) 2015', 'Whisker.low',\n",
    "'Economy..GDP.per.Capita.',\n",
    "'Internet users',\n",
    "'Inequality-adjusted life expectancy index',\n",
    "'Health..Life.Expectancy.',\n",
    "'Family',\n",
    "'Freedom',\n",
    "'Dependency Ratio Old age (65 and older) /(per 100 people ages 15–64)',\n",
    "'Dystopia.Residual',\n",
    "'Trust..Government.Corruption.',\n",
    "'cropland_cover',\n",
    "'Generosity',\n",
    "'temp_max_warmestMonth',\n",
    "'rain_seasonailty',\n",
    "'temp_diurnal_range',\n",
    "'Deaths due to Tuberculosis (per 100,000 people) ',\n",
    "'Total fertility rate (birth per woman) 2000/2007',\n",
    "'Dependency Ration Young age (0–14) /(per 100 people ages 15–64)',\n",
    "'Inequality in life expectancy (%) 2010-2015'\n",
    "]]\n",
    "\n",
    "#X.fillna(random.random(), inplace=True)\n"
   ]
  },
  {
   "cell_type": "code",
   "execution_count": 22,
   "metadata": {},
   "outputs": [],
   "source": [
    "#Creating a Dataframe with happiness score alone\n",
    "y = combineddf2['Happiness.Score']\n",
    "#y.append([276,.9])\n",
    "len(y)\n",
    "#y.fillna(random.random(), inplace=True)\n",
    "#y\n",
    "#len(X)\n",
    "X.to_excel('X.xls')"
   ]
  },
  {
   "cell_type": "code",
   "execution_count": 23,
   "metadata": {},
   "outputs": [],
   "source": [
    "#Creating a Linear Regression Model\n",
    "model = LinearRegression()"
   ]
  },
  {
   "cell_type": "code",
   "execution_count": 24,
   "metadata": {},
   "outputs": [],
   "source": [
    "X_train, X_test, y_train, y_test = train_test_split(X, y, test_size=0.2, random_state=42)\n"
   ]
  },
  {
   "cell_type": "code",
   "execution_count": 25,
   "metadata": {},
   "outputs": [
    {
     "data": {
      "text/plain": [
       "LinearRegression(copy_X=True, fit_intercept=True, n_jobs=1, normalize=False)"
      ]
     },
     "execution_count": 25,
     "metadata": {},
     "output_type": "execute_result"
    }
   ],
   "source": [
    "#Providing the values to the model\n",
    "model.fit(X_train,y_train)"
   ]
  },
  {
   "cell_type": "code",
   "execution_count": 26,
   "metadata": {},
   "outputs": [
    {
     "data": {
      "text/html": [
       "<div>\n",
       "<style scoped>\n",
       "    .dataframe tbody tr th:only-of-type {\n",
       "        vertical-align: middle;\n",
       "    }\n",
       "\n",
       "    .dataframe tbody tr th {\n",
       "        vertical-align: top;\n",
       "    }\n",
       "\n",
       "    .dataframe thead th {\n",
       "        text-align: right;\n",
       "    }\n",
       "</style>\n",
       "<table border=\"1\" class=\"dataframe\">\n",
       "  <thead>\n",
       "    <tr style=\"text-align: right;\">\n",
       "      <th></th>\n",
       "      <th>Total Population (millions) 2015</th>\n",
       "      <th>Whisker.low</th>\n",
       "      <th>Economy..GDP.per.Capita.</th>\n",
       "      <th>Internet users</th>\n",
       "      <th>Inequality-adjusted life expectancy index</th>\n",
       "      <th>Health..Life.Expectancy.</th>\n",
       "      <th>Family</th>\n",
       "      <th>Freedom</th>\n",
       "      <th>Dependency Ratio Old age (65 and older) /(per 100 people ages 15–64)</th>\n",
       "      <th>Dystopia.Residual</th>\n",
       "      <th>Trust..Government.Corruption.</th>\n",
       "      <th>cropland_cover</th>\n",
       "      <th>Generosity</th>\n",
       "      <th>temp_max_warmestMonth</th>\n",
       "      <th>rain_seasonailty</th>\n",
       "      <th>temp_diurnal_range</th>\n",
       "      <th>Deaths due to Tuberculosis (per 100,000 people)</th>\n",
       "      <th>Total fertility rate (birth per woman) 2000/2007</th>\n",
       "      <th>Dependency Ration Young age (0–14) /(per 100 people ages 15–64)</th>\n",
       "      <th>Inequality in life expectancy (%) 2010-2015</th>\n",
       "    </tr>\n",
       "  </thead>\n",
       "  <tbody>\n",
       "    <tr>\n",
       "      <th>0</th>\n",
       "      <td>100</td>\n",
       "      <td>6.911343</td>\n",
       "      <td>1.546259</td>\n",
       "      <td>74.6</td>\n",
       "      <td>0.856</td>\n",
       "      <td>0.774287</td>\n",
       "      <td>1.419921</td>\n",
       "      <td>0.443323</td>\n",
       "      <td>22.3</td>\n",
       "      <td>2.218113</td>\n",
       "      <td>0.135639</td>\n",
       "      <td>19.743870</td>\n",
       "      <td>0.392579</td>\n",
       "      <td>26.776731</td>\n",
       "      <td>43.415171</td>\n",
       "      <td>8.508100</td>\n",
       "      <td>0.1</td>\n",
       "      <td>1.9</td>\n",
       "      <td>28.6</td>\n",
       "      <td>6.1</td>\n",
       "    </tr>\n",
       "    <tr>\n",
       "      <th>1</th>\n",
       "      <td>1000</td>\n",
       "      <td>7.247597</td>\n",
       "      <td>1.479204</td>\n",
       "      <td>88.5</td>\n",
       "      <td>0.912</td>\n",
       "      <td>0.834558</td>\n",
       "      <td>1.481349</td>\n",
       "      <td>0.472788</td>\n",
       "      <td>23.8</td>\n",
       "      <td>2.187264</td>\n",
       "      <td>0.287372</td>\n",
       "      <td>3.796340</td>\n",
       "      <td>0.435540</td>\n",
       "      <td>16.428661</td>\n",
       "      <td>46.837965</td>\n",
       "      <td>12.194984</td>\n",
       "      <td>0.2</td>\n",
       "      <td>1.6</td>\n",
       "      <td>23.5</td>\n",
       "      <td>4.7</td>\n",
       "    </tr>\n",
       "    <tr>\n",
       "      <th>2</th>\n",
       "      <td>200</td>\n",
       "      <td>5.171112</td>\n",
       "      <td>0.995539</td>\n",
       "      <td>22.0</td>\n",
       "      <td>0.630</td>\n",
       "      <td>0.492346</td>\n",
       "      <td>1.274445</td>\n",
       "      <td>0.443323</td>\n",
       "      <td>7.7</td>\n",
       "      <td>2.218113</td>\n",
       "      <td>0.015317</td>\n",
       "      <td>13.240866</td>\n",
       "      <td>0.611705</td>\n",
       "      <td>30.133801</td>\n",
       "      <td>29.436566</td>\n",
       "      <td>8.508100</td>\n",
       "      <td>41.0</td>\n",
       "      <td>2.5</td>\n",
       "      <td>41.2</td>\n",
       "      <td>16.5</td>\n",
       "    </tr>\n",
       "    <tr>\n",
       "      <th>3</th>\n",
       "      <td>25</td>\n",
       "      <td>5.226721</td>\n",
       "      <td>1.081166</td>\n",
       "      <td>50.3</td>\n",
       "      <td>0.784</td>\n",
       "      <td>0.741416</td>\n",
       "      <td>1.160837</td>\n",
       "      <td>0.472788</td>\n",
       "      <td>13.0</td>\n",
       "      <td>2.187264</td>\n",
       "      <td>0.022794</td>\n",
       "      <td>22.183475</td>\n",
       "      <td>0.028807</td>\n",
       "      <td>25.190887</td>\n",
       "      <td>89.453030</td>\n",
       "      <td>12.194984</td>\n",
       "      <td>2.8</td>\n",
       "      <td>1.6</td>\n",
       "      <td>23.5</td>\n",
       "      <td>8.9</td>\n",
       "    </tr>\n",
       "  </tbody>\n",
       "</table>\n",
       "</div>"
      ],
      "text/plain": [
       "   Total Population (millions) 2015  Whisker.low  Economy..GDP.per.Capita.  \\\n",
       "0                               100     6.911343                  1.546259   \n",
       "1                              1000     7.247597                  1.479204   \n",
       "2                               200     5.171112                  0.995539   \n",
       "3                                25     5.226721                  1.081166   \n",
       "\n",
       "   Internet users  Inequality-adjusted life expectancy index  \\\n",
       "0            74.6                                      0.856   \n",
       "1            88.5                                      0.912   \n",
       "2            22.0                                      0.630   \n",
       "3            50.3                                      0.784   \n",
       "\n",
       "   Health..Life.Expectancy.    Family   Freedom  \\\n",
       "0                  0.774287  1.419921  0.443323   \n",
       "1                  0.834558  1.481349  0.472788   \n",
       "2                  0.492346  1.274445  0.443323   \n",
       "3                  0.741416  1.160837  0.472788   \n",
       "\n",
       "   Dependency Ratio Old age (65 and older) /(per 100 people ages 15–64)  \\\n",
       "0                                               22.3                      \n",
       "1                                               23.8                      \n",
       "2                                                7.7                      \n",
       "3                                               13.0                      \n",
       "\n",
       "   Dystopia.Residual  Trust..Government.Corruption.  cropland_cover  \\\n",
       "0           2.218113                       0.135639       19.743870   \n",
       "1           2.187264                       0.287372        3.796340   \n",
       "2           2.218113                       0.015317       13.240866   \n",
       "3           2.187264                       0.022794       22.183475   \n",
       "\n",
       "   Generosity  temp_max_warmestMonth  rain_seasonailty  temp_diurnal_range  \\\n",
       "0    0.392579              26.776731         43.415171            8.508100   \n",
       "1    0.435540              16.428661         46.837965           12.194984   \n",
       "2    0.611705              30.133801         29.436566            8.508100   \n",
       "3    0.028807              25.190887         89.453030           12.194984   \n",
       "\n",
       "   Deaths due to Tuberculosis (per 100,000 people)   \\\n",
       "0                                               0.1   \n",
       "1                                               0.2   \n",
       "2                                              41.0   \n",
       "3                                               2.8   \n",
       "\n",
       "   Total fertility rate (birth per woman) 2000/2007  \\\n",
       "0                                               1.9   \n",
       "1                                               1.6   \n",
       "2                                               2.5   \n",
       "3                                               1.6   \n",
       "\n",
       "   Dependency Ration Young age (0–14) /(per 100 people ages 15–64)  \\\n",
       "0                                               28.6                 \n",
       "1                                               23.5                 \n",
       "2                                               41.2                 \n",
       "3                                               23.5                 \n",
       "\n",
       "   Inequality in life expectancy (%) 2010-2015  \n",
       "0                                          6.1  \n",
       "1                                          4.7  \n",
       "2                                         16.5  \n",
       "3                                          8.9  "
      ]
     },
     "execution_count": 26,
     "metadata": {},
     "output_type": "execute_result"
    }
   ],
   "source": [
    "# Creating a dataframe with countries and variables for which Happiness Index is to be predicted\n",
    "testset = pd.read_csv('Pred_Input.csv')\n",
    "#X_test\n",
    "testset"
   ]
  },
  {
   "cell_type": "code",
   "execution_count": 27,
   "metadata": {},
   "outputs": [],
   "source": [
    "# Creating a happiess prediciton column and adding to the dataframe\n",
    "predictions = model.predict(X_test)\n",
    "testset['happiness_pred'] = model.predict(testset)"
   ]
  },
  {
   "cell_type": "code",
   "execution_count": 28,
   "metadata": {},
   "outputs": [
    {
     "data": {
      "text/html": [
       "<div>\n",
       "<style scoped>\n",
       "    .dataframe tbody tr th:only-of-type {\n",
       "        vertical-align: middle;\n",
       "    }\n",
       "\n",
       "    .dataframe tbody tr th {\n",
       "        vertical-align: top;\n",
       "    }\n",
       "\n",
       "    .dataframe thead th {\n",
       "        text-align: right;\n",
       "    }\n",
       "</style>\n",
       "<table border=\"1\" class=\"dataframe\">\n",
       "  <thead>\n",
       "    <tr style=\"text-align: right;\">\n",
       "      <th></th>\n",
       "      <th>Total Population (millions) 2015</th>\n",
       "      <th>Whisker.low</th>\n",
       "      <th>Economy..GDP.per.Capita.</th>\n",
       "      <th>Internet users</th>\n",
       "      <th>Inequality-adjusted life expectancy index</th>\n",
       "      <th>Health..Life.Expectancy.</th>\n",
       "      <th>Family</th>\n",
       "      <th>Freedom</th>\n",
       "      <th>Dependency Ratio Old age (65 and older) /(per 100 people ages 15–64)</th>\n",
       "      <th>Dystopia.Residual</th>\n",
       "      <th>...</th>\n",
       "      <th>cropland_cover</th>\n",
       "      <th>Generosity</th>\n",
       "      <th>temp_max_warmestMonth</th>\n",
       "      <th>rain_seasonailty</th>\n",
       "      <th>temp_diurnal_range</th>\n",
       "      <th>Deaths due to Tuberculosis (per 100,000 people)</th>\n",
       "      <th>Total fertility rate (birth per woman) 2000/2007</th>\n",
       "      <th>Dependency Ration Young age (0–14) /(per 100 people ages 15–64)</th>\n",
       "      <th>Inequality in life expectancy (%) 2010-2015</th>\n",
       "      <th>happiness_pred</th>\n",
       "    </tr>\n",
       "  </thead>\n",
       "  <tbody>\n",
       "    <tr>\n",
       "      <th>0</th>\n",
       "      <td>100</td>\n",
       "      <td>6.911343</td>\n",
       "      <td>1.546259</td>\n",
       "      <td>74.6</td>\n",
       "      <td>0.856</td>\n",
       "      <td>0.774287</td>\n",
       "      <td>1.419921</td>\n",
       "      <td>0.443323</td>\n",
       "      <td>22.3</td>\n",
       "      <td>2.218113</td>\n",
       "      <td>...</td>\n",
       "      <td>19.743870</td>\n",
       "      <td>0.392579</td>\n",
       "      <td>26.776731</td>\n",
       "      <td>43.415171</td>\n",
       "      <td>8.508100</td>\n",
       "      <td>0.1</td>\n",
       "      <td>1.9</td>\n",
       "      <td>28.6</td>\n",
       "      <td>6.1</td>\n",
       "      <td>6.930114</td>\n",
       "    </tr>\n",
       "    <tr>\n",
       "      <th>1</th>\n",
       "      <td>1000</td>\n",
       "      <td>7.247597</td>\n",
       "      <td>1.479204</td>\n",
       "      <td>88.5</td>\n",
       "      <td>0.912</td>\n",
       "      <td>0.834558</td>\n",
       "      <td>1.481349</td>\n",
       "      <td>0.472788</td>\n",
       "      <td>23.8</td>\n",
       "      <td>2.187264</td>\n",
       "      <td>...</td>\n",
       "      <td>3.796340</td>\n",
       "      <td>0.435540</td>\n",
       "      <td>16.428661</td>\n",
       "      <td>46.837965</td>\n",
       "      <td>12.194984</td>\n",
       "      <td>0.2</td>\n",
       "      <td>1.6</td>\n",
       "      <td>23.5</td>\n",
       "      <td>4.7</td>\n",
       "      <td>7.178172</td>\n",
       "    </tr>\n",
       "    <tr>\n",
       "      <th>2</th>\n",
       "      <td>200</td>\n",
       "      <td>5.171112</td>\n",
       "      <td>0.995539</td>\n",
       "      <td>22.0</td>\n",
       "      <td>0.630</td>\n",
       "      <td>0.492346</td>\n",
       "      <td>1.274445</td>\n",
       "      <td>0.443323</td>\n",
       "      <td>7.7</td>\n",
       "      <td>2.218113</td>\n",
       "      <td>...</td>\n",
       "      <td>13.240866</td>\n",
       "      <td>0.611705</td>\n",
       "      <td>30.133801</td>\n",
       "      <td>29.436566</td>\n",
       "      <td>8.508100</td>\n",
       "      <td>41.0</td>\n",
       "      <td>2.5</td>\n",
       "      <td>41.2</td>\n",
       "      <td>16.5</td>\n",
       "      <td>6.051765</td>\n",
       "    </tr>\n",
       "    <tr>\n",
       "      <th>3</th>\n",
       "      <td>25</td>\n",
       "      <td>5.226721</td>\n",
       "      <td>1.081166</td>\n",
       "      <td>50.3</td>\n",
       "      <td>0.784</td>\n",
       "      <td>0.741416</td>\n",
       "      <td>1.160837</td>\n",
       "      <td>0.472788</td>\n",
       "      <td>13.0</td>\n",
       "      <td>2.187264</td>\n",
       "      <td>...</td>\n",
       "      <td>22.183475</td>\n",
       "      <td>0.028807</td>\n",
       "      <td>25.190887</td>\n",
       "      <td>89.453030</td>\n",
       "      <td>12.194984</td>\n",
       "      <td>2.8</td>\n",
       "      <td>1.6</td>\n",
       "      <td>23.5</td>\n",
       "      <td>8.9</td>\n",
       "      <td>5.695472</td>\n",
       "    </tr>\n",
       "  </tbody>\n",
       "</table>\n",
       "<p>4 rows × 21 columns</p>\n",
       "</div>"
      ],
      "text/plain": [
       "   Total Population (millions) 2015  Whisker.low  Economy..GDP.per.Capita.  \\\n",
       "0                               100     6.911343                  1.546259   \n",
       "1                              1000     7.247597                  1.479204   \n",
       "2                               200     5.171112                  0.995539   \n",
       "3                                25     5.226721                  1.081166   \n",
       "\n",
       "   Internet users  Inequality-adjusted life expectancy index  \\\n",
       "0            74.6                                      0.856   \n",
       "1            88.5                                      0.912   \n",
       "2            22.0                                      0.630   \n",
       "3            50.3                                      0.784   \n",
       "\n",
       "   Health..Life.Expectancy.    Family   Freedom  \\\n",
       "0                  0.774287  1.419921  0.443323   \n",
       "1                  0.834558  1.481349  0.472788   \n",
       "2                  0.492346  1.274445  0.443323   \n",
       "3                  0.741416  1.160837  0.472788   \n",
       "\n",
       "   Dependency Ratio Old age (65 and older) /(per 100 people ages 15–64)  \\\n",
       "0                                               22.3                      \n",
       "1                                               23.8                      \n",
       "2                                                7.7                      \n",
       "3                                               13.0                      \n",
       "\n",
       "   Dystopia.Residual       ...        cropland_cover  Generosity  \\\n",
       "0           2.218113       ...             19.743870    0.392579   \n",
       "1           2.187264       ...              3.796340    0.435540   \n",
       "2           2.218113       ...             13.240866    0.611705   \n",
       "3           2.187264       ...             22.183475    0.028807   \n",
       "\n",
       "   temp_max_warmestMonth  rain_seasonailty  temp_diurnal_range  \\\n",
       "0              26.776731         43.415171            8.508100   \n",
       "1              16.428661         46.837965           12.194984   \n",
       "2              30.133801         29.436566            8.508100   \n",
       "3              25.190887         89.453030           12.194984   \n",
       "\n",
       "   Deaths due to Tuberculosis (per 100,000 people)   \\\n",
       "0                                               0.1   \n",
       "1                                               0.2   \n",
       "2                                              41.0   \n",
       "3                                               2.8   \n",
       "\n",
       "   Total fertility rate (birth per woman) 2000/2007  \\\n",
       "0                                               1.9   \n",
       "1                                               1.6   \n",
       "2                                               2.5   \n",
       "3                                               1.6   \n",
       "\n",
       "   Dependency Ration Young age (0–14) /(per 100 people ages 15–64)  \\\n",
       "0                                               28.6                 \n",
       "1                                               23.5                 \n",
       "2                                               41.2                 \n",
       "3                                               23.5                 \n",
       "\n",
       "   Inequality in life expectancy (%) 2010-2015  happiness_pred  \n",
       "0                                          6.1        6.930114  \n",
       "1                                          4.7        7.178172  \n",
       "2                                         16.5        6.051765  \n",
       "3                                          8.9        5.695472  \n",
       "\n",
       "[4 rows x 21 columns]"
      ]
     },
     "execution_count": 28,
     "metadata": {},
     "output_type": "execute_result"
    }
   ],
   "source": [
    "testset"
   ]
  },
  {
   "cell_type": "code",
   "execution_count": 29,
   "metadata": {},
   "outputs": [],
   "source": [
    "from sklearn.metrics import confusion_matrix, classification_report\n",
    "#classification_report(y_test['Happiness.Score'], predictions)\n",
    "#y_test['Happiness.Score']"
   ]
  },
  {
   "cell_type": "code",
   "execution_count": 30,
   "metadata": {},
   "outputs": [],
   "source": [
    "#print(classification_report(y_test, happiness_pred))"
   ]
  },
  {
   "cell_type": "code",
   "execution_count": 31,
   "metadata": {},
   "outputs": [
    {
     "data": {
      "text/plain": [
       "<matplotlib.collections.PathCollection at 0x2c775de9d68>"
      ]
     },
     "execution_count": 31,
     "metadata": {},
     "output_type": "execute_result"
    },
    {
     "data": {
      "image/png": "[encoded data removed]",
      "text/plain": [
       "<Figure size 432x288 with 1 Axes>"
      ]
     },
     "metadata": {
      "needs_background": "light"
     },
     "output_type": "display_data"
    }
   ],
   "source": [
    "plt.scatter(testset.iloc[:,0], testset.iloc[:,20])\n",
    "#testset.iloc[:,0:11]"
   ]
  },
  {
   "cell_type": "code",
   "execution_count": null,
   "metadata": {},
   "outputs": [],
   "source": []
  },
  {
   "cell_type": "code",
   "execution_count": null,
   "metadata": {},
   "outputs": [],
   "source": []
  }
 ],
 "metadata": {
  "kernelspec": {
   "display_name": "Python 3",
   "language": "python",
   "name": "python3"
  },
  "language_info": {
   "codemirror_mode": {
    "name": "ipython",
    "version": 3
   },
   "file_extension": ".py",
   "mimetype": "text/x-python",
   "name": "python",
   "nbconvert_exporter": "python",
   "pygments_lexer": "ipython3",
   "version": "3.7.0"
  }
 },
 "nbformat": 4,
 "nbformat_minor": 2
}
